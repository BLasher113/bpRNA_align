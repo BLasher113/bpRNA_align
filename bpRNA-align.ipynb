{
 "cells": [
  {
   "cell_type": "markdown",
   "metadata": {},
   "source": [
    "# <span style='color:teal'> bpRNA-align:  </span>"
   ]
  },
  {
   "cell_type": "markdown",
   "metadata": {},
   "source": [
    "### bpRNA-align has two different scripts:"
   ]
  },
  {
   "cell_type": "markdown",
   "metadata": {},
   "source": [
    "#### 1) bpRNA_align.py"
   ]
  },
  {
   "cell_type": "markdown",
   "metadata": {},
   "source": [
    "#### 2) bpRNA_align_module.py"
   ]
  },
  {
   "cell_type": "markdown",
   "metadata": {},
   "source": [
    "bpRNA_align.py is the main script that is run, it takes two inputs and has multiple flag options and one output. "
   ]
  },
  {
   "cell_type": "markdown",
   "metadata": {},
   "source": [
    "input 1) with the flag -f, is a list of files in either \"st\" format or \"dbn\" format. View the example input file \"file_list.txt\".  "
   ]
  },
  {
   "cell_type": "markdown",
   "metadata": {},
   "source": [
    "input 2) -w, is the bandwidth, which is set by the user as a tunable parameter. An ideal bandwidth would allow for the optimal pathway through the matrices to avoid being cutoff by the band. "
   ]
  },
  {
   "cell_type": "markdown",
   "metadata": {},
   "source": [
    "Other flag options include -a, to include alignments in the output file, -p, to plot M, X, and Y matrices for the aligned structures, and -o, to specify the name of the output file. The output consists of a file where each line contains the alignment information of one pair."
   ]
  },
  {
   "cell_type": "markdown",
   "metadata": {},
   "source": [
    "The bpRNA_align_module.py script, is a module that performs the aligning task. This module includes the gap penalties and the substitution matrix for scoring. "
   ]
  },
  {
   "cell_type": "markdown",
   "metadata": {},
   "source": [
    "### <span style='color:black'> Running bpRNA-align with a bandwidth of 20, alignments in the output file, and plotted matrices:  </span> "
   ]
  },
  {
   "cell_type": "code",
   "execution_count": 2,
   "metadata": {},
   "outputs": [
    {
     "data": {
      "text/plain": [
       "0"
      ]
     },
     "execution_count": 2,
     "metadata": {},
     "output_type": "execute_result"
    }
   ],
   "source": [
    "import os\n",
    "os.system(\"python3 bpRNA_align.py -f file_list.txt -w 20 -a True -p True -o out_test.txt\")"
   ]
  },
  {
   "cell_type": "markdown",
   "metadata": {},
   "source": [
    "This command outputs the alignment results along with the similarity scores and the plots for X, Y, and M matrices"
   ]
  },
  {
   "cell_type": "markdown",
   "metadata": {},
   "source": [
    "## Output screenshot"
   ]
  },
  {
   "cell_type": "markdown",
   "metadata": {},
   "source": [
    "![](Alignment_results.png)"
   ]
  },
  {
   "cell_type": "markdown",
   "metadata": {},
   "source": [
    "## Plotted matrices"
   ]
  },
  {
   "cell_type": "markdown",
   "metadata": {},
   "source": [
    "![](bpRNA_RFAM_1154_bpRNA_PDB_528_alignment_matrices.png)"
   ]
  }
 ],
 "metadata": {
  "kernelspec": {
   "display_name": "Python 3",
   "language": "python",
   "name": "python3"
  },
  "language_info": {
   "codemirror_mode": {
    "name": "ipython",
    "version": 3
   },
   "file_extension": ".py",
   "mimetype": "text/x-python",
   "name": "python",
   "nbconvert_exporter": "python",
   "pygments_lexer": "ipython3",
   "version": "3.7.2"
  }
 },
 "nbformat": 4,
 "nbformat_minor": 4
}
